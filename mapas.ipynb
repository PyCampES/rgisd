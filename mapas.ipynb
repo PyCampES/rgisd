{
 "cells": [
  {
   "cell_type": "code",
   "execution_count": 1,
   "id": "714dcd3b-4c84-4106-b8a9-68dbb00c7d49",
   "metadata": {
    "tags": []
   },
   "outputs": [],
   "source": [
    "import leafmap\n",
    "\n",
    "import geopandas\n",
    "\n",
    "from ipyleaflet import Marker, Icon, AwesomeIcon"
   ]
  },
  {
   "cell_type": "code",
   "execution_count": 2,
   "id": "087f24e4-9fde-4999-9729-1e1295b0a297",
   "metadata": {
    "tags": []
   },
   "outputs": [],
   "source": [
    "gdf = geopandas.read_file(\"InstamapsExport.gpkg\")"
   ]
  },
  {
   "cell_type": "code",
   "execution_count": 3,
   "id": "f12efcf1-7ade-49d8-a655-12df7c44f264",
   "metadata": {
    "tags": []
   },
   "outputs": [],
   "source": [
    "# http://geojson.io/"
   ]
  },
  {
   "cell_type": "code",
   "execution_count": 4,
   "id": "caf0e3f4-7be7-47e5-a1c2-3955ae4c55cb",
   "metadata": {
    "tags": []
   },
   "outputs": [
    {
     "data": {
      "application/vnd.jupyter.widget-view+json": {
       "model_id": "6c98b3e35ec74e9685b60b9a36a5379d",
       "version_major": 2,
       "version_minor": 0
      },
      "text/plain": [
       "Map(center=[20, 0], controls=(ZoomControl(options=['position', 'zoom_in_text', 'zoom_in_title', 'zoom_out_text…"
      ]
     },
     "metadata": {},
     "output_type": "display_data"
    }
   ],
   "source": [
    "m = leafmap.Map()\n",
    "\n",
    "icon = AwesomeIcon(\n",
    "    name='bus',\n",
    "    marker_color='green',\n",
    "    icon_color='darkgreen',\n",
    "    #spin=True\n",
    ")\n",
    "\n",
    "m.add_geojson(\"puntos.geojson\", name=\"Puntos\")#, style=style, point_style={\"fillColor\": \"#ff0000\"})  # NO FUNCIONA\n",
    "m.add_gdf(gdf, name=\"Polígonos\")\n",
    "\n",
    "m.add_layer(Marker(location=(42, 1), icon=icon, name=\"Single point\"))\n",
    "\n",
    "m.add_image(\"https://leafletjs.com/examples/custom-icons/leaf-green.png\", name=\"Logo\", position=\"topright\")\n",
    "\n",
    "m"
   ]
  },
  {
   "cell_type": "code",
   "execution_count": null,
   "id": "660d744b-0ef3-42d4-a233-fbd35722e568",
   "metadata": {},
   "outputs": [],
   "source": []
  }
 ],
 "metadata": {
  "kernelspec": {
   "display_name": "Python 3 (ipykernel)",
   "language": "python",
   "name": "python3"
  },
  "language_info": {
   "codemirror_mode": {
    "name": "ipython",
    "version": 3
   },
   "file_extension": ".py",
   "mimetype": "text/x-python",
   "name": "python",
   "nbconvert_exporter": "python",
   "pygments_lexer": "ipython3",
   "version": "3.10.10"
  }
 },
 "nbformat": 4,
 "nbformat_minor": 5
}
